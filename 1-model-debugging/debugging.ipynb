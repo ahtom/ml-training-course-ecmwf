{
 "cells": [
  {
   "cell_type": "markdown",
   "id": "4d543406-aefb-4ad5-ba7c-eb75e5fa08f5",
   "metadata": {},
   "source": [
    "# Debugging\n",
    "\n",
    "Author: **Christian Lessig et al.**\n",
    "\n",
    "`christian.lessig@ecmwf.int`"
   ]
  },
  {
   "cell_type": "markdown",
   "id": "f14e9100",
   "metadata": {},
   "source": [
    "## Introduction\n",
    "\n",
    "Most often, we spend more time debugging code than writing it. This is particularly true for python.\n",
    "\n",
    "Debugging usually consists of three steps:\n",
    "1. Localize the problem.\n",
    "2. Understand what precisely goes wrong.\n",
    "3. Fix the problem.\n",
    "The third step is usually the easy one once the first two have been accomplished.\n",
    "\n",
    "To understand "
   ]
  },
  {
   "cell_type": "code",
   "execution_count": 8,
   "id": "04366dae",
   "metadata": {},
   "outputs": [],
   "source": [
    "import os\n",
    "from importlib import reload\n",
    "import code\n",
    "\n",
    "import torch"
   ]
  },
  {
   "cell_type": "code",
   "execution_count": 23,
   "id": "93a94abe",
   "metadata": {},
   "outputs": [],
   "source": [
    "import model\n",
    "reload( model)\n",
    "from model import MLP\n",
    "\n",
    "net = MLP( dim_in=512, dim_out=512)\n",
    "\n",
    "# check if GPU is available\n",
    "device = 'cuda' if torch.cuda.is_available() else 'cpu'\n",
    "net = net.to(device)\n"
   ]
  },
  {
   "cell_type": "code",
   "execution_count": 24,
   "id": "ab76a27c",
   "metadata": {},
   "outputs": [],
   "source": [
    "# test if we can evaluate the network\n",
    "\n",
    "t_in = torch.rand( (16, 512)).to(device)\n",
    "t_out = net( t_in)"
   ]
  },
  {
   "cell_type": "code",
   "execution_count": 28,
   "id": "b2a252dc",
   "metadata": {},
   "outputs": [
    {
     "name": "stdout",
     "output_type": "stream",
     "text": [
      "loss : 0.17747855186462402\n"
     ]
    }
   ],
   "source": [
    "# test if data loading works\n",
    "\n",
    "import dataset\n",
    "reload( dataset)\n",
    "from dataset import CustomDataSet\n",
    "\n",
    "custom_dataset = CustomDataSet( len=32768, batch_size=128, dim_data=512)\n",
    "data_iter = iter(custom_dataset)\n",
    "\n",
    "lossfct = torch.nn.MSELoss()\n",
    "\n",
    "# load sample\n",
    "(source, target) = next(data_iter)\n",
    "# evaluate network\n",
    "pred = net( source)\n",
    "# compute loss\n",
    "loss = lossfct( pred, target)\n",
    "\n",
    "print( f'loss : {loss}')"
   ]
  },
  {
   "cell_type": "code",
   "execution_count": 32,
   "id": "d1023113-3009-4c05-9e6f-983b23e96978",
   "metadata": {},
   "outputs": [
    {
     "name": "stdout",
     "output_type": "stream",
     "text": [
      "Finished epoch=0 with loss=0.14155101776123047.\n",
      "Finished epoch=1 with loss=0.13087543845176697.\n",
      "Finished epoch=2 with loss=0.12232525646686554.\n",
      "Finished epoch=3 with loss=0.11737056076526642.\n",
      "Finished epoch=4 with loss=0.11309609562158585.\n",
      "Finished epoch=5 with loss=0.10898953676223755.\n",
      "Finished epoch=6 with loss=0.10630710422992706.\n",
      "Finished epoch=7 with loss=0.1054118201136589.\n"
     ]
    }
   ],
   "source": [
    "# training loop\n",
    "\n",
    "optimizer = torch.optim.AdamW( net.parameters(), lr=0.00005)\n",
    "\n",
    "# parallel data loader\n",
    "loader_params = { 'batch_size': None, 'batch_sampler': None, 'shuffle': False, \n",
    "                   'num_workers': 8, 'pin_memory': True}\n",
    "dataloader = torch.utils.data.DataLoader( custom_dataset, **loader_params, sampler = None)\n",
    "\n",
    "num_epochs = 8\n",
    "\n",
    "optimizer.zero_grad()\n",
    "for epoch in range( num_epochs) :\n",
    "\n",
    "  # data_iter = iter( dataset)\n",
    "  data_iter = iter( dataloader)\n",
    "  \n",
    "  for bidx, (source, target) in enumerate(data_iter) :\n",
    "\n",
    "    pred = net( source)\n",
    "    loss = lossfct( pred, target)\n",
    "\n",
    "    loss.backward()\n",
    "    optimizer.step()\n",
    "    optimizer.zero_grad()\n",
    "\n",
    "  print( f'Finished epoch={epoch} with loss={loss}.')"
   ]
  },
  {
   "cell_type": "code",
   "execution_count": 34,
   "id": "8cc2c79d",
   "metadata": {},
   "outputs": [
    {
     "ename": "IndexError",
     "evalue": "index 128 is out of bounds for dimension 0 with size 128",
     "output_type": "error",
     "traceback": [
      "\u001b[0;31m---------------------------------------------------------------------------\u001b[0m",
      "\u001b[0;31mIndexError\u001b[0m                                Traceback (most recent call last)",
      "Cell \u001b[0;32mIn[34], line 2\u001b[0m\n\u001b[1;32m      1\u001b[0m idx \u001b[38;5;241m=\u001b[39m torch\u001b[38;5;241m.\u001b[39marange( \u001b[38;5;241m512\u001b[39m)\n\u001b[0;32m----> 2\u001b[0m loss \u001b[38;5;241m=\u001b[39m lossfct( \u001b[43msource\u001b[49m\u001b[43m[\u001b[49m\u001b[43midx\u001b[49m\u001b[43m]\u001b[49m, target[idx])\n",
      "\u001b[0;31mIndexError\u001b[0m: index 128 is out of bounds for dimension 0 with size 128"
     ]
    }
   ],
   "source": [
    "idx = torch.arange( 512)\n",
    "loss = lossfct( source[idx], target[idx])"
   ]
  },
  {
   "cell_type": "markdown",
   "id": "b77d9ab2",
   "metadata": {},
   "source": [
    "## What to do if my training doesn't work?\n",
    "\n",
    "- Try to overfit!\n",
    "  - Loss function needs to be meaningful at all"
   ]
  }
 ],
 "metadata": {
  "kernelspec": {
   "display_name": "Python 3",
   "language": "python",
   "name": "python3"
  },
  "language_info": {
   "codemirror_mode": {
    "name": "ipython",
    "version": 3
   },
   "file_extension": ".py",
   "mimetype": "text/x-python",
   "name": "python",
   "nbconvert_exporter": "python",
   "pygments_lexer": "ipython3",
   "version": "3.11.8"
  }
 },
 "nbformat": 4,
 "nbformat_minor": 5
}
